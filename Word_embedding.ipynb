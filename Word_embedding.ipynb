{
  "nbformat": 4,
  "nbformat_minor": 0,
  "metadata": {
    "colab": {
      "name": "Word_embedding.ipynb",
      "version": "0.3.2",
      "provenance": []
    },
    "kernelspec": {
      "name": "python3",
      "display_name": "Python 3"
    }
  },
  "cells": [
    {
      "cell_type": "markdown",
      "metadata": {
        "id": "view-in-github",
        "colab_type": "text"
      },
      "source": [
        "[View in Colaboratory](https://colab.research.google.com/github/abunickabhi/IRproject/blob/master/Word_embedding.ipynb)"
      ]
    },
    {
      "metadata": {
        "id": "gr0ljkD8YuQq",
        "colab_type": "code",
        "colab": {
          "base_uri": "https://localhost:8080/",
          "height": 54
        },
        "outputId": "f130aa41-e310-49dc-b721-d62ff7e2ceb0"
      },
      "cell_type": "code",
      "source": [
        "import io\n",
        "import polyglot\n",
        "import word2vec\n"
      ],
      "execution_count": 8,
      "outputs": [
        {
          "output_type": "execute_result",
          "data": {
            "text/plain": [
              "\"\\ndef load_vectors(fname):\\n    fin = io.open(fname, 'r', encoding='utf-8', newline='\\n', errors='ignore')\\n    n, d = map(int, fin.readline().split())\\n    data = {}\\n    for line in fin:\\n        tokens = line.rstrip().split(' ')\\n        data[tokens[0]] = map(float, tokens[1:])\\n    return data\\n    \""
            ]
          },
          "metadata": {
            "tags": []
          },
          "execution_count": 8
        }
      ]
    },
    {
      "metadata": {
        "id": "nqGwS5O9efPe",
        "colab_type": "code",
        "colab": {
          "base_uri": "https://localhost:8080/",
          "height": 34
        },
        "outputId": "fd7333ea-8ac3-413f-a6e6-610dc474835d"
      },
      "cell_type": "code",
      "source": [
        "!pip3 install Cython\n"
      ],
      "execution_count": 6,
      "outputs": [
        {
          "output_type": "stream",
          "text": [
            "Requirement already satisfied: Cython in /usr/local/lib/python3.6/dist-packages\r\n"
          ],
          "name": "stdout"
        }
      ]
    },
    {
      "metadata": {
        "id": "_2JDOgC8fM-5",
        "colab_type": "code",
        "colab": {
          "base_uri": "https://localhost:8080/",
          "height": 187
        },
        "outputId": "af1fc401-8689-46bd-a78e-35e346791653"
      },
      "cell_type": "code",
      "source": [
        "!pip3 install word2vec\n"
      ],
      "execution_count": 7,
      "outputs": [
        {
          "output_type": "stream",
          "text": [
            "Collecting word2vec\n",
            "  Using cached word2vec-0.9.2.tar.gz\n",
            "Requirement already satisfied: cython in /usr/local/lib/python3.6/dist-packages (from word2vec)\n",
            "Requirement already satisfied: numpy in /usr/local/lib/python3.6/dist-packages (from word2vec)\n",
            "Building wheels for collected packages: word2vec\n",
            "  Running setup.py bdist_wheel for word2vec ... \u001b[?25l-\b \b\\\b \b|\b \b/\b \b-\b \b\\\b \b|\b \b/\b \bdone\n",
            "\u001b[?25h  Stored in directory: /content/.cache/pip/wheels/81/d0/9d/93f56c6111d24248341bbe355fd7d5ef6243f89260af5e91b3\n",
            "Successfully built word2vec\n",
            "Installing collected packages: word2vec\n",
            "Successfully installed word2vec-0.9.2\n"
          ],
          "name": "stdout"
        }
      ]
    }
  ]
}